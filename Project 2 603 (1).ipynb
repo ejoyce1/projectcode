{
 "cells": [
  {
   "cell_type": "code",
   "execution_count": 2,
   "metadata": {},
   "outputs": [
    {
     "name": "stdout",
     "output_type": "stream",
     "text": [
      "Collecting keras\n",
      "  Downloading Keras-2.4.3-py2.py3-none-any.whl (36 kB)\n",
      "Requirement already satisfied: scipy>=0.14 in ./anaconda3/lib/python3.7/site-packages (from keras) (1.3.0)\n",
      "Requirement already satisfied: h5py in ./anaconda3/lib/python3.7/site-packages (from keras) (2.9.0)\n",
      "Requirement already satisfied: pyyaml in ./anaconda3/lib/python3.7/site-packages (from keras) (5.1.1)\n",
      "Requirement already satisfied: numpy>=1.9.1 in ./anaconda3/lib/python3.7/site-packages (from keras) (1.16.4)\n",
      "Requirement already satisfied: six in ./anaconda3/lib/python3.7/site-packages (from h5py->keras) (1.12.0)\n",
      "Installing collected packages: keras\n",
      "Successfully installed keras-2.4.3\n",
      "\u001b[33mWARNING: You are using pip version 20.2.4; however, version 21.0.1 is available.\n",
      "You should consider upgrading via the '/Users/evanjoyce/anaconda3/bin/python -m pip install --upgrade pip' command.\u001b[0m\n",
      "Note: you may need to restart the kernel to use updated packages.\n"
     ]
    }
   ],
   "source": [
    "#had to install \n",
    "\n",
    "pip install keras"
   ]
  },
  {
   "cell_type": "code",
   "execution_count": 7,
   "metadata": {},
   "outputs": [
    {
     "name": "stdout",
     "output_type": "stream",
     "text": [
      "Collecting tensorflow\n",
      "  Using cached tensorflow-2.4.1-cp37-cp37m-macosx_10_11_x86_64.whl (173.9 MB)\n",
      "Requirement already satisfied: flatbuffers~=1.12.0 in ./anaconda3/lib/python3.7/site-packages (from tensorflow) (1.12)\n",
      "Requirement already satisfied: astunparse~=1.6.3 in ./anaconda3/lib/python3.7/site-packages (from tensorflow) (1.6.3)\n",
      "Requirement already satisfied: keras-preprocessing~=1.1.2 in ./anaconda3/lib/python3.7/site-packages (from tensorflow) (1.1.2)\n",
      "Requirement already satisfied: termcolor~=1.1.0 in ./anaconda3/lib/python3.7/site-packages (from tensorflow) (1.1.0)\n",
      "Requirement already satisfied: wrapt~=1.12.1 in ./anaconda3/lib/python3.7/site-packages (from tensorflow) (1.12.1)\n",
      "Requirement already satisfied: numpy~=1.19.2 in ./anaconda3/lib/python3.7/site-packages (from tensorflow) (1.19.5)\n",
      "Requirement already satisfied: wheel~=0.35 in ./anaconda3/lib/python3.7/site-packages (from tensorflow) (0.36.2)\n",
      "Requirement already satisfied: opt-einsum~=3.3.0 in ./anaconda3/lib/python3.7/site-packages (from tensorflow) (3.3.0)\n",
      "Requirement already satisfied: protobuf>=3.9.2 in ./anaconda3/lib/python3.7/site-packages (from tensorflow) (3.14.0)\n",
      "Requirement already satisfied: typing-extensions~=3.7.4 in ./anaconda3/lib/python3.7/site-packages (from tensorflow) (3.7.4.3)\n",
      "Requirement already satisfied: google-pasta~=0.2 in ./anaconda3/lib/python3.7/site-packages (from tensorflow) (0.2.0)\n",
      "Requirement already satisfied: six~=1.15.0 in ./anaconda3/lib/python3.7/site-packages (from tensorflow) (1.15.0)\n",
      "Requirement already satisfied: grpcio~=1.32.0 in ./anaconda3/lib/python3.7/site-packages (from tensorflow) (1.32.0)\n",
      "Requirement already satisfied: h5py~=2.10.0 in ./anaconda3/lib/python3.7/site-packages (from tensorflow) (2.10.0)\n",
      "Requirement already satisfied: tensorflow-estimator<2.5.0,>=2.4.0 in ./anaconda3/lib/python3.7/site-packages (from tensorflow) (2.4.0)\n",
      "Requirement already satisfied: tensorboard~=2.4 in ./anaconda3/lib/python3.7/site-packages (from tensorflow) (2.4.1)\n",
      "Requirement already satisfied: gast==0.3.3 in ./anaconda3/lib/python3.7/site-packages (from tensorflow) (0.3.3)\n",
      "Requirement already satisfied: absl-py~=0.10 in ./anaconda3/lib/python3.7/site-packages (from tensorflow) (0.11.0)\n",
      "Requirement already satisfied: setuptools>=41.0.0 in ./anaconda3/lib/python3.7/site-packages (from tensorboard~=2.4->tensorflow) (41.0.1)\n",
      "Requirement already satisfied: werkzeug>=0.11.15 in ./anaconda3/lib/python3.7/site-packages (from tensorboard~=2.4->tensorflow) (0.15.4)\n",
      "Requirement already satisfied: markdown>=2.6.8 in ./anaconda3/lib/python3.7/site-packages (from tensorboard~=2.4->tensorflow) (3.3.3)\n",
      "Requirement already satisfied: tensorboard-plugin-wit>=1.6.0 in ./anaconda3/lib/python3.7/site-packages (from tensorboard~=2.4->tensorflow) (1.8.0)\n",
      "Requirement already satisfied: requests<3,>=2.21.0 in ./anaconda3/lib/python3.7/site-packages (from tensorboard~=2.4->tensorflow) (2.22.0)\n",
      "Requirement already satisfied: google-auth<2,>=1.6.3 in ./anaconda3/lib/python3.7/site-packages (from tensorboard~=2.4->tensorflow) (1.25.0)\n",
      "Requirement already satisfied: google-auth-oauthlib<0.5,>=0.4.1 in ./anaconda3/lib/python3.7/site-packages (from tensorboard~=2.4->tensorflow) (0.4.2)\n",
      "Requirement already satisfied: importlib-metadata; python_version < \"3.8\" in ./anaconda3/lib/python3.7/site-packages (from markdown>=2.6.8->tensorboard~=2.4->tensorflow) (0.17)\n",
      "Requirement already satisfied: idna<2.9,>=2.5 in ./anaconda3/lib/python3.7/site-packages (from requests<3,>=2.21.0->tensorboard~=2.4->tensorflow) (2.8)\n",
      "Requirement already satisfied: urllib3!=1.25.0,!=1.25.1,<1.26,>=1.21.1 in ./anaconda3/lib/python3.7/site-packages (from requests<3,>=2.21.0->tensorboard~=2.4->tensorflow) (1.24.2)\n",
      "Requirement already satisfied: chardet<3.1.0,>=3.0.2 in ./anaconda3/lib/python3.7/site-packages (from requests<3,>=2.21.0->tensorboard~=2.4->tensorflow) (3.0.4)\n",
      "Requirement already satisfied: certifi>=2017.4.17 in ./anaconda3/lib/python3.7/site-packages (from requests<3,>=2.21.0->tensorboard~=2.4->tensorflow) (2019.6.16)\n",
      "Requirement already satisfied: pyasn1-modules>=0.2.1 in ./anaconda3/lib/python3.7/site-packages (from google-auth<2,>=1.6.3->tensorboard~=2.4->tensorflow) (0.2.8)\n",
      "Requirement already satisfied: rsa<5,>=3.1.4; python_version >= \"3.6\" in ./anaconda3/lib/python3.7/site-packages (from google-auth<2,>=1.6.3->tensorboard~=2.4->tensorflow) (4.7)\n",
      "Requirement already satisfied: cachetools<5.0,>=2.0.0 in ./anaconda3/lib/python3.7/site-packages (from google-auth<2,>=1.6.3->tensorboard~=2.4->tensorflow) (4.2.1)\n",
      "Requirement already satisfied: requests-oauthlib>=0.7.0 in ./anaconda3/lib/python3.7/site-packages (from google-auth-oauthlib<0.5,>=0.4.1->tensorboard~=2.4->tensorflow) (1.3.0)\n",
      "Requirement already satisfied: zipp>=0.5 in ./anaconda3/lib/python3.7/site-packages (from importlib-metadata; python_version < \"3.8\"->markdown>=2.6.8->tensorboard~=2.4->tensorflow) (0.5.1)\n",
      "Requirement already satisfied: pyasn1<0.5.0,>=0.4.6 in ./anaconda3/lib/python3.7/site-packages (from pyasn1-modules>=0.2.1->google-auth<2,>=1.6.3->tensorboard~=2.4->tensorflow) (0.4.8)\n",
      "Requirement already satisfied: oauthlib>=3.0.0 in ./anaconda3/lib/python3.7/site-packages (from requests-oauthlib>=0.7.0->google-auth-oauthlib<0.5,>=0.4.1->tensorboard~=2.4->tensorflow) (3.1.0)\n",
      "Installing collected packages: tensorflow\n",
      "Successfully installed tensorflow-2.4.1\n",
      "\u001b[33mWARNING: You are using pip version 20.2.4; however, version 21.0.1 is available.\n",
      "You should consider upgrading via the '/Users/evanjoyce/anaconda3/bin/python -m pip install --upgrade pip' command.\u001b[0m\n",
      "Note: you may need to restart the kernel to use updated packages.\n"
     ]
    }
   ],
   "source": [
    "#had to install \n",
    "pip install tensorflow"
   ]
  },
  {
   "cell_type": "code",
   "execution_count": 3,
   "metadata": {},
   "outputs": [],
   "source": [
    "#import libraries and data\n",
    "\n",
    "#to run basic statistics and create neural net\n",
    "import pandas as pd \n",
    "import numpy as np \n",
    "import tensorflow as tf\n",
    "\n",
    "#below is for dataset \n",
    "from keras.datasets import mnist\n",
    "# for visualization \n",
    "from matplotlib import pyplot as plt\n",
    "from keras.utils import to_categorical \n",
    "\n",
    "\n",
    "# stuff for layers \n",
    "import tensorflow as tf\n",
    "from tensorflow import keras\n",
    "from tensorflow.keras import layers\n",
    "from tensorflow.keras.models import Sequential, load_model\n",
    "from tensorflow.keras.layers import MaxPooling2D, Flatten, Dropout, BatchNormalization\n",
    "from keras.layers.normalization import BatchNormalization\n"
   ]
  },
  {
   "cell_type": "code",
   "execution_count": 4,
   "metadata": {},
   "outputs": [],
   "source": [
    "(trainX,trainy), (testX,testy) = mnist.load_data()"
   ]
  },
  {
   "cell_type": "code",
   "execution_count": null,
   "metadata": {},
   "outputs": [],
   "source": []
  },
  {
   "cell_type": "code",
   "execution_count": null,
   "metadata": {},
   "outputs": [],
   "source": []
  },
  {
   "cell_type": "code",
   "execution_count": 5,
   "metadata": {},
   "outputs": [
    {
     "data": {
      "text/plain": [
       "<matplotlib.image.AxesImage at 0x64af4bbe0>"
      ]
     },
     "execution_count": 5,
     "metadata": {},
     "output_type": "execute_result"
    },
    {
     "data": {
      "image/png": "[encoded data removed]",
      "text/plain": [
       "<Figure size 432x288 with 1 Axes>"
      ]
     },
     "metadata": {
      "needs_background": "light"
     },
     "output_type": "display_data"
    }
   ],
   "source": [
    "#displaying images for closer look \n",
    "plt.imshow(trainX[1])"
   ]
  },
  {
   "cell_type": "code",
   "execution_count": 6,
   "metadata": {},
   "outputs": [],
   "source": [
    "#pyplot.imshow(trainX[2])\n"
   ]
  },
  {
   "cell_type": "code",
   "execution_count": 7,
   "metadata": {},
   "outputs": [],
   "source": [
    "#pyplot.imshow(trainX[2])\n"
   ]
  },
  {
   "cell_type": "code",
   "execution_count": 8,
   "metadata": {},
   "outputs": [],
   "source": [
    "#pyplot.imshow(trainX[3])\n"
   ]
  },
  {
   "cell_type": "code",
   "execution_count": 9,
   "metadata": {},
   "outputs": [],
   "source": [
    "#pyplot.imshow(trainX[4])"
   ]
  },
  {
   "cell_type": "code",
   "execution_count": 10,
   "metadata": {},
   "outputs": [],
   "source": [
    "#pyplot.imshow(trainX[5])"
   ]
  },
  {
   "cell_type": "code",
   "execution_count": 11,
   "metadata": {},
   "outputs": [],
   "source": [
    "#pyplot.imshow(trainX[6])"
   ]
  },
  {
   "cell_type": "code",
   "execution_count": 12,
   "metadata": {},
   "outputs": [],
   "source": [
    "#pyplot.imshow(trainX[7])"
   ]
  },
  {
   "cell_type": "code",
   "execution_count": null,
   "metadata": {},
   "outputs": [],
   "source": []
  },
  {
   "cell_type": "code",
   "execution_count": null,
   "metadata": {},
   "outputs": [],
   "source": []
  },
  {
   "cell_type": "code",
   "execution_count": null,
   "metadata": {},
   "outputs": [],
   "source": []
  },
  {
   "cell_type": "code",
   "execution_count": null,
   "metadata": {},
   "outputs": [],
   "source": []
  },
  {
   "cell_type": "code",
   "execution_count": 13,
   "metadata": {},
   "outputs": [],
   "source": [
    "#setting size variables \n",
    "size_trainX = trainX.shape\n",
    "size_trainy = trainy.shape\n",
    "size_testX = testX.shape\n",
    "sizetesty = testy.shape"
   ]
  },
  {
   "cell_type": "code",
   "execution_count": 14,
   "metadata": {},
   "outputs": [
    {
     "name": "stdout",
     "output_type": "stream",
     "text": [
      "(60000, 28, 28)\n",
      "(60000,)\n",
      "(10000, 28, 28)\n",
      "(10000,)\n"
     ]
    }
   ],
   "source": [
    "#printing size to see what kind of data we are working with \n",
    "print(size_trainX)\n",
    "print(size_trainy)\n",
    "print(size_testX)\n",
    "print(sizetesty)"
   ]
  },
  {
   "cell_type": "code",
   "execution_count": 15,
   "metadata": {},
   "outputs": [],
   "source": [
    "# so our training has 60,000 data points \n",
    "# testing has 10,000 data points"
   ]
  },
  {
   "cell_type": "code",
   "execution_count": null,
   "metadata": {},
   "outputs": [],
   "source": []
  },
  {
   "cell_type": "code",
   "execution_count": null,
   "metadata": {},
   "outputs": [],
   "source": []
  },
  {
   "cell_type": "code",
   "execution_count": null,
   "metadata": {},
   "outputs": [],
   "source": []
  },
  {
   "cell_type": "code",
   "execution_count": null,
   "metadata": {},
   "outputs": [],
   "source": []
  },
  {
   "cell_type": "code",
   "execution_count": 16,
   "metadata": {},
   "outputs": [],
   "source": [
    "import numpy as np \n",
    "import pandas as pd"
   ]
  },
  {
   "cell_type": "code",
   "execution_count": 17,
   "metadata": {},
   "outputs": [],
   "source": [
    "#this shows the values for each of the numbers \n",
    "\n",
    "# these numbers should add up to the 60,000 training pieces of data \n",
    "\n",
    "\n",
    "labels = pd.DataFrame(trainy)\n",
    "valuesss = labels[0].value_counts()"
   ]
  },
  {
   "cell_type": "code",
   "execution_count": 18,
   "metadata": {},
   "outputs": [
    {
     "data": {
      "text/plain": [
       "1    6742\n",
       "7    6265\n",
       "3    6131\n",
       "2    5958\n",
       "9    5949\n",
       "0    5923\n",
       "6    5918\n",
       "8    5851\n",
       "4    5842\n",
       "5    5421\n",
       "Name: 0, dtype: int64"
      ]
     },
     "execution_count": 18,
     "metadata": {},
     "output_type": "execute_result"
    }
   ],
   "source": [
    "#interesting to see the breakdown of numbers and that number 1 has significant more pieces of data than the rest of the numbers \n",
    "\n",
    "\n",
    "valuesss"
   ]
  },
  {
   "cell_type": "code",
   "execution_count": 19,
   "metadata": {},
   "outputs": [],
   "source": [
    "from statistics import mean"
   ]
  },
  {
   "cell_type": "code",
   "execution_count": 20,
   "metadata": {},
   "outputs": [
    {
     "data": {
      "text/plain": [
       "6000"
      ]
     },
     "execution_count": 20,
     "metadata": {},
     "output_type": "execute_result"
    }
   ],
   "source": [
    "mean(valuesss)"
   ]
  },
  {
   "cell_type": "markdown",
   "metadata": {},
   "source": [
    "mode(valuesss"
   ]
  },
  {
   "cell_type": "code",
   "execution_count": 21,
   "metadata": {},
   "outputs": [
    {
     "data": {
      "text/plain": [
       "60000"
      ]
     },
     "execution_count": 21,
     "metadata": {},
     "output_type": "execute_result"
    }
   ],
   "source": [
    "# this just confirms that we have 60,000 values in the training set \n",
    "sum(valuesss)"
   ]
  },
  {
   "cell_type": "code",
   "execution_count": null,
   "metadata": {},
   "outputs": [],
   "source": []
  },
  {
   "cell_type": "code",
   "execution_count": 22,
   "metadata": {},
   "outputs": [],
   "source": [
    "# need to reshape it  "
   ]
  },
  {
   "cell_type": "code",
   "execution_count": 23,
   "metadata": {},
   "outputs": [],
   "source": [
    "trainX = trainX.reshape(trainX.shape[0], 784).astype('float32')\n",
    "testX = testX.reshape(testX.shape[0],784).astype('float32')"
   ]
  },
  {
   "cell_type": "code",
   "execution_count": 24,
   "metadata": {},
   "outputs": [
    {
     "data": {
      "text/plain": [
       "(60000, 784)"
      ]
     },
     "execution_count": 24,
     "metadata": {},
     "output_type": "execute_result"
    }
   ],
   "source": [
    "#before it was 60,000, 28,28 but we change the shape to the following\n",
    "trainX.shape"
   ]
  },
  {
   "cell_type": "code",
   "execution_count": 25,
   "metadata": {},
   "outputs": [],
   "source": [
    "trainy = tf.keras.utils.to_categorical(trainy, num_classes = 10)\n"
   ]
  },
  {
   "cell_type": "code",
   "execution_count": 26,
   "metadata": {},
   "outputs": [],
   "source": [
    "testy = tf.keras.utils.to_categorical(testy,num_classes = 10)\n"
   ]
  },
  {
   "cell_type": "code",
   "execution_count": 396,
   "metadata": {},
   "outputs": [],
   "source": [
    "\n",
    "import tensorflow as tf\n",
    "from tensorflow import keras\n",
    "from tensorflow.keras import layers\n",
    "from tensorflow.keras.models import Sequential, load_model\n",
    "from tensorflow.keras.layers import MaxPooling2D, Flatten, Dropout, BatchNormalization\n",
    "from keras.layers.normalization import BatchNormalization"
   ]
  },
  {
   "cell_type": "code",
   "execution_count": 397,
   "metadata": {},
   "outputs": [],
   "source": [
    "# create model and add layers \n",
    "model = tf.keras.models.Sequential()\n",
    "#model.add(layers.Activation(\"relu\"))\n",
    "#model.add(layers.Activation('softmax'))\n",
    "model.add(tf.keras.layers.Dense(784,activation = \"relu\"))\n",
    "model.add(Flatten())\n",
    "model.add(Dropout(.5))\n",
    "\n",
    "model.add(tf.keras.layers.Dense(100,activation = 'relu'))\n",
    "model.add(BatchNormalization())\n",
    "model.add(Dropout(.5))\n",
    "model.add(tf.keras.layers.Dense(10,activation = \"softmax\"))\n",
    "\n"
   ]
  },
  {
   "cell_type": "code",
   "execution_count": 398,
   "metadata": {},
   "outputs": [],
   "source": [
    "#try some different optimizers including Adadelta,Adamax,SGD... look online\n",
    "\n",
    "# explain why adam optimizer in write up \n",
    "#use model.compile to configure it for metrics ald losses\n",
    "# use model.fit to train the actual model \n",
    "#model.compile(optimizer = 'Adadelta', loss = \"mse\", metrics = ['accuracy'])\n",
    "#model.compile(optimizer = 'Adamax', loss = \"categorical_crossentropy\", metrics = ['accuracy'])\n",
    "#try different loss functions too \n",
    "#model.compile(optimizer = 'adam', loss = \"categorical_crossentropy\", metrics = ['accuracy'])\n",
    "#model.predict to predict if we want \n",
    "#model.compile(optimizer = 'Adam', loss = \"mse\", metrics = ['accuracy'])\n",
    "#model.compile(optimizer = 'Adamax', loss = \"mse\", metrics = ['accuracy'])\n",
    "\n",
    "\n",
    "model.compile(optimizer = 'Adam', loss = \"categorical_crossentropy\", metrics = ['accuracy'])\n",
    "# mean squared error for loss "
   ]
  },
  {
   "cell_type": "code",
   "execution_count": 399,
   "metadata": {},
   "outputs": [
    {
     "name": "stdout",
     "output_type": "stream",
     "text": [
      "Epoch 1/100\n",
      "45/45 - 6s - loss: 0.8332 - accuracy: 0.7484 - val_loss: 0.3544 - val_accuracy: 0.9085\n",
      "Epoch 2/100\n",
      "45/45 - 3s - loss: 0.3354 - accuracy: 0.9002 - val_loss: 0.2022 - val_accuracy: 0.9401\n",
      "Epoch 3/100\n",
      "45/45 - 4s - loss: 0.2505 - accuracy: 0.9256 - val_loss: 0.1549 - val_accuracy: 0.9542\n",
      "Epoch 4/100\n",
      "45/45 - 3s - loss: 0.1932 - accuracy: 0.9430 - val_loss: 0.1381 - val_accuracy: 0.9597\n",
      "Epoch 5/100\n",
      "45/45 - 4s - loss: 0.1607 - accuracy: 0.9526 - val_loss: 0.1260 - val_accuracy: 0.9634\n",
      "Epoch 6/100\n",
      "45/45 - 3s - loss: 0.1401 - accuracy: 0.9578 - val_loss: 0.1148 - val_accuracy: 0.9667\n",
      "Epoch 7/100\n",
      "45/45 - 3s - loss: 0.1223 - accuracy: 0.9641 - val_loss: 0.1036 - val_accuracy: 0.9705\n",
      "Epoch 8/100\n",
      "45/45 - 4s - loss: 0.1086 - accuracy: 0.9683 - val_loss: 0.1006 - val_accuracy: 0.9706\n",
      "Epoch 9/100\n",
      "45/45 - 3s - loss: 0.0985 - accuracy: 0.9699 - val_loss: 0.0985 - val_accuracy: 0.9705\n",
      "Epoch 10/100\n",
      "45/45 - 3s - loss: 0.0874 - accuracy: 0.9729 - val_loss: 0.0967 - val_accuracy: 0.9717\n",
      "Epoch 11/100\n",
      "45/45 - 3s - loss: 0.0801 - accuracy: 0.9756 - val_loss: 0.0909 - val_accuracy: 0.9735\n",
      "Epoch 12/100\n",
      "45/45 - 4s - loss: 0.0741 - accuracy: 0.9766 - val_loss: 0.0913 - val_accuracy: 0.9741\n",
      "Epoch 13/100\n",
      "45/45 - 4s - loss: 0.0669 - accuracy: 0.9806 - val_loss: 0.0918 - val_accuracy: 0.9746\n",
      "Epoch 14/100\n",
      "45/45 - 4s - loss: 0.0636 - accuracy: 0.9796 - val_loss: 0.0881 - val_accuracy: 0.9758\n",
      "Epoch 15/100\n",
      "45/45 - 4s - loss: 0.0594 - accuracy: 0.9814 - val_loss: 0.0901 - val_accuracy: 0.9755\n",
      "Epoch 16/100\n",
      "45/45 - 5s - loss: 0.0536 - accuracy: 0.9839 - val_loss: 0.0897 - val_accuracy: 0.9757\n",
      "Epoch 17/100\n",
      "45/45 - 6s - loss: 0.0497 - accuracy: 0.9852 - val_loss: 0.0871 - val_accuracy: 0.9765\n",
      "Epoch 18/100\n",
      "45/45 - 5s - loss: 0.0462 - accuracy: 0.9857 - val_loss: 0.0891 - val_accuracy: 0.9758\n",
      "Epoch 19/100\n",
      "45/45 - 4s - loss: 0.0425 - accuracy: 0.9867 - val_loss: 0.0892 - val_accuracy: 0.9762\n",
      "Epoch 20/100\n",
      "45/45 - 3s - loss: 0.0427 - accuracy: 0.9860 - val_loss: 0.0878 - val_accuracy: 0.9765\n",
      "Epoch 21/100\n",
      "45/45 - 3s - loss: 0.0397 - accuracy: 0.9874 - val_loss: 0.0918 - val_accuracy: 0.9768\n",
      "Epoch 22/100\n",
      "45/45 - 3s - loss: 0.0394 - accuracy: 0.9878 - val_loss: 0.0874 - val_accuracy: 0.9772\n",
      "Epoch 23/100\n",
      "45/45 - 4s - loss: 0.0374 - accuracy: 0.9887 - val_loss: 0.0905 - val_accuracy: 0.9771\n",
      "Epoch 24/100\n",
      "45/45 - 3s - loss: 0.0364 - accuracy: 0.9886 - val_loss: 0.0875 - val_accuracy: 0.9783\n",
      "Epoch 25/100\n",
      "45/45 - 4s - loss: 0.0341 - accuracy: 0.9889 - val_loss: 0.0892 - val_accuracy: 0.9780\n",
      "Epoch 26/100\n",
      "45/45 - 3s - loss: 0.0308 - accuracy: 0.9903 - val_loss: 0.0885 - val_accuracy: 0.9779\n",
      "Epoch 27/100\n",
      "45/45 - 3s - loss: 0.0302 - accuracy: 0.9900 - val_loss: 0.0927 - val_accuracy: 0.9766\n",
      "Epoch 28/100\n",
      "45/45 - 2s - loss: 0.0317 - accuracy: 0.9901 - val_loss: 0.0904 - val_accuracy: 0.9775\n",
      "Epoch 29/100\n",
      "45/45 - 2s - loss: 0.0314 - accuracy: 0.9902 - val_loss: 0.0879 - val_accuracy: 0.9782\n",
      "Epoch 30/100\n",
      "45/45 - 2s - loss: 0.0285 - accuracy: 0.9907 - val_loss: 0.0910 - val_accuracy: 0.9775\n",
      "Epoch 31/100\n",
      "45/45 - 2s - loss: 0.0286 - accuracy: 0.9905 - val_loss: 0.0920 - val_accuracy: 0.9781\n",
      "Epoch 32/100\n",
      "45/45 - 4s - loss: 0.0277 - accuracy: 0.9908 - val_loss: 0.0989 - val_accuracy: 0.9768\n",
      "Epoch 33/100\n",
      "45/45 - 5s - loss: 0.0293 - accuracy: 0.9905 - val_loss: 0.0966 - val_accuracy: 0.9781\n",
      "Epoch 34/100\n",
      "45/45 - 6s - loss: 0.0287 - accuracy: 0.9906 - val_loss: 0.0945 - val_accuracy: 0.9770\n",
      "Epoch 35/100\n",
      "45/45 - 4s - loss: 0.0258 - accuracy: 0.9919 - val_loss: 0.0921 - val_accuracy: 0.9777\n",
      "Epoch 36/100\n",
      "45/45 - 5s - loss: 0.0206 - accuracy: 0.9935 - val_loss: 0.0905 - val_accuracy: 0.9779\n",
      "Epoch 37/100\n",
      "45/45 - 4s - loss: 0.0226 - accuracy: 0.9925 - val_loss: 0.0915 - val_accuracy: 0.9789\n",
      "Epoch 38/100\n",
      "45/45 - 3s - loss: 0.0223 - accuracy: 0.9927 - val_loss: 0.0948 - val_accuracy: 0.9785\n",
      "Epoch 39/100\n",
      "45/45 - 3s - loss: 0.0218 - accuracy: 0.9931 - val_loss: 0.0926 - val_accuracy: 0.9784\n",
      "Epoch 40/100\n",
      "45/45 - 4s - loss: 0.0203 - accuracy: 0.9931 - val_loss: 0.0989 - val_accuracy: 0.9780\n",
      "Epoch 41/100\n",
      "45/45 - 3s - loss: 0.0188 - accuracy: 0.9943 - val_loss: 0.0946 - val_accuracy: 0.9783\n",
      "Epoch 42/100\n",
      "45/45 - 3s - loss: 0.0190 - accuracy: 0.9939 - val_loss: 0.0959 - val_accuracy: 0.9785\n",
      "Epoch 43/100\n",
      "45/45 - 4s - loss: 0.0199 - accuracy: 0.9934 - val_loss: 0.0947 - val_accuracy: 0.9784\n",
      "Epoch 44/100\n",
      "45/45 - 3s - loss: 0.0215 - accuracy: 0.9931 - val_loss: 0.0995 - val_accuracy: 0.9781\n",
      "Epoch 45/100\n",
      "45/45 - 6s - loss: 0.0197 - accuracy: 0.9933 - val_loss: 0.0998 - val_accuracy: 0.9787\n",
      "Epoch 46/100\n",
      "45/45 - 7s - loss: 0.0205 - accuracy: 0.9936 - val_loss: 0.0975 - val_accuracy: 0.9797\n",
      "Epoch 47/100\n",
      "45/45 - 8s - loss: 0.0189 - accuracy: 0.9936 - val_loss: 0.1002 - val_accuracy: 0.9784\n",
      "Epoch 48/100\n",
      "45/45 - 8s - loss: 0.0219 - accuracy: 0.9933 - val_loss: 0.0977 - val_accuracy: 0.9791\n",
      "Epoch 49/100\n",
      "45/45 - 7s - loss: 0.0180 - accuracy: 0.9946 - val_loss: 0.0974 - val_accuracy: 0.9792\n",
      "Epoch 50/100\n",
      "45/45 - 7s - loss: 0.0168 - accuracy: 0.9946 - val_loss: 0.0983 - val_accuracy: 0.9779\n",
      "Epoch 51/100\n",
      "45/45 - 9s - loss: 0.0180 - accuracy: 0.9944 - val_loss: 0.1001 - val_accuracy: 0.9799\n",
      "Epoch 52/100\n",
      "45/45 - 7s - loss: 0.0169 - accuracy: 0.9943 - val_loss: 0.0997 - val_accuracy: 0.9796\n",
      "Epoch 53/100\n",
      "45/45 - 9s - loss: 0.0176 - accuracy: 0.9942 - val_loss: 0.0974 - val_accuracy: 0.9790\n",
      "Epoch 54/100\n",
      "45/45 - 15s - loss: 0.0152 - accuracy: 0.9949 - val_loss: 0.0961 - val_accuracy: 0.9795\n",
      "Epoch 55/100\n",
      "45/45 - 14s - loss: 0.0147 - accuracy: 0.9954 - val_loss: 0.0957 - val_accuracy: 0.9803\n",
      "Epoch 56/100\n",
      "45/45 - 11s - loss: 0.0163 - accuracy: 0.9950 - val_loss: 0.1055 - val_accuracy: 0.9786\n",
      "Epoch 57/100\n",
      "45/45 - 13s - loss: 0.0173 - accuracy: 0.9944 - val_loss: 0.1008 - val_accuracy: 0.9795\n",
      "Epoch 58/100\n",
      "45/45 - 13s - loss: 0.0180 - accuracy: 0.9938 - val_loss: 0.1021 - val_accuracy: 0.9795\n",
      "Epoch 59/100\n",
      "45/45 - 17s - loss: 0.0155 - accuracy: 0.9949 - val_loss: 0.1027 - val_accuracy: 0.9788\n",
      "Epoch 60/100\n",
      "45/45 - 19s - loss: 0.0154 - accuracy: 0.9951 - val_loss: 0.1015 - val_accuracy: 0.9789\n",
      "Epoch 61/100\n",
      "45/45 - 15s - loss: 0.0161 - accuracy: 0.9943 - val_loss: 0.0985 - val_accuracy: 0.9795\n",
      "Epoch 62/100\n",
      "45/45 - 8s - loss: 0.0141 - accuracy: 0.9955 - val_loss: 0.1030 - val_accuracy: 0.9797\n",
      "Epoch 63/100\n",
      "45/45 - 6s - loss: 0.0141 - accuracy: 0.9949 - val_loss: 0.1066 - val_accuracy: 0.9784\n",
      "Epoch 64/100\n",
      "45/45 - 6s - loss: 0.0165 - accuracy: 0.9948 - val_loss: 0.1056 - val_accuracy: 0.9788\n",
      "Epoch 65/100\n",
      "45/45 - 5s - loss: 0.0140 - accuracy: 0.9955 - val_loss: 0.1037 - val_accuracy: 0.9798\n",
      "Epoch 66/100\n",
      "45/45 - 3s - loss: 0.0138 - accuracy: 0.9956 - val_loss: 0.1027 - val_accuracy: 0.9794\n",
      "Epoch 67/100\n",
      "45/45 - 3s - loss: 0.0131 - accuracy: 0.9958 - val_loss: 0.1020 - val_accuracy: 0.9800\n",
      "Epoch 68/100\n",
      "45/45 - 3s - loss: 0.0124 - accuracy: 0.9960 - val_loss: 0.1010 - val_accuracy: 0.9796\n",
      "Epoch 69/100\n",
      "45/45 - 3s - loss: 0.0118 - accuracy: 0.9963 - val_loss: 0.1017 - val_accuracy: 0.9800\n",
      "Epoch 70/100\n",
      "45/45 - 2s - loss: 0.0136 - accuracy: 0.9957 - val_loss: 0.1042 - val_accuracy: 0.9791\n",
      "Epoch 71/100\n",
      "45/45 - 3s - loss: 0.0126 - accuracy: 0.9960 - val_loss: 0.1063 - val_accuracy: 0.9790\n",
      "Epoch 72/100\n",
      "45/45 - 3s - loss: 0.0145 - accuracy: 0.9954 - val_loss: 0.1017 - val_accuracy: 0.9799\n",
      "Epoch 73/100\n",
      "45/45 - 3s - loss: 0.0136 - accuracy: 0.9951 - val_loss: 0.0969 - val_accuracy: 0.9801\n",
      "Epoch 74/100\n",
      "45/45 - 2s - loss: 0.0122 - accuracy: 0.9964 - val_loss: 0.0986 - val_accuracy: 0.9800\n",
      "Epoch 75/100\n",
      "45/45 - 3s - loss: 0.0142 - accuracy: 0.9956 - val_loss: 0.1013 - val_accuracy: 0.9795\n",
      "Epoch 76/100\n",
      "45/45 - 2s - loss: 0.0137 - accuracy: 0.9958 - val_loss: 0.1101 - val_accuracy: 0.9792\n",
      "Epoch 77/100\n",
      "45/45 - 2s - loss: 0.0152 - accuracy: 0.9951 - val_loss: 0.1065 - val_accuracy: 0.9794\n",
      "Epoch 78/100\n",
      "45/45 - 2s - loss: 0.0143 - accuracy: 0.9952 - val_loss: 0.1046 - val_accuracy: 0.9793\n",
      "Epoch 79/100\n",
      "45/45 - 2s - loss: 0.0111 - accuracy: 0.9964 - val_loss: 0.1049 - val_accuracy: 0.9793\n",
      "Epoch 80/100\n",
      "45/45 - 2s - loss: 0.0109 - accuracy: 0.9963 - val_loss: 0.1006 - val_accuracy: 0.9790\n",
      "Epoch 81/100\n",
      "45/45 - 2s - loss: 0.0117 - accuracy: 0.9965 - val_loss: 0.1044 - val_accuracy: 0.9793\n",
      "Epoch 82/100\n",
      "45/45 - 2s - loss: 0.0104 - accuracy: 0.9966 - val_loss: 0.1094 - val_accuracy: 0.9791\n",
      "Epoch 83/100\n",
      "45/45 - 2s - loss: 0.0107 - accuracy: 0.9966 - val_loss: 0.1132 - val_accuracy: 0.9787\n",
      "Epoch 84/100\n",
      "45/45 - 2s - loss: 0.0119 - accuracy: 0.9962 - val_loss: 0.1091 - val_accuracy: 0.9784\n",
      "Epoch 85/100\n",
      "45/45 - 3s - loss: 0.0119 - accuracy: 0.9961 - val_loss: 0.1012 - val_accuracy: 0.9800\n",
      "Epoch 86/100\n",
      "45/45 - 3s - loss: 0.0095 - accuracy: 0.9968 - val_loss: 0.1114 - val_accuracy: 0.9788\n",
      "Epoch 87/100\n",
      "45/45 - 2s - loss: 0.0100 - accuracy: 0.9966 - val_loss: 0.1113 - val_accuracy: 0.9789\n",
      "Epoch 88/100\n",
      "45/45 - 2s - loss: 0.0103 - accuracy: 0.9962 - val_loss: 0.1122 - val_accuracy: 0.9793\n",
      "Epoch 89/100\n",
      "45/45 - 2s - loss: 0.0104 - accuracy: 0.9963 - val_loss: 0.1108 - val_accuracy: 0.9793\n",
      "Epoch 90/100\n",
      "45/45 - 2s - loss: 0.0118 - accuracy: 0.9962 - val_loss: 0.1075 - val_accuracy: 0.9798\n",
      "Epoch 91/100\n",
      "45/45 - 2s - loss: 0.0105 - accuracy: 0.9968 - val_loss: 0.1100 - val_accuracy: 0.9795\n",
      "Epoch 92/100\n",
      "45/45 - 2s - loss: 0.0106 - accuracy: 0.9963 - val_loss: 0.1052 - val_accuracy: 0.9803\n",
      "Epoch 93/100\n",
      "45/45 - 3s - loss: 0.0108 - accuracy: 0.9964 - val_loss: 0.1158 - val_accuracy: 0.9793\n",
      "Epoch 94/100\n",
      "45/45 - 2s - loss: 0.0098 - accuracy: 0.9969 - val_loss: 0.1103 - val_accuracy: 0.9806\n",
      "Epoch 95/100\n",
      "45/45 - 2s - loss: 0.0100 - accuracy: 0.9970 - val_loss: 0.1123 - val_accuracy: 0.9797\n",
      "Epoch 96/100\n",
      "45/45 - 2s - loss: 0.0094 - accuracy: 0.9973 - val_loss: 0.1080 - val_accuracy: 0.9796\n",
      "Epoch 97/100\n",
      "45/45 - 2s - loss: 0.0095 - accuracy: 0.9971 - val_loss: 0.1152 - val_accuracy: 0.9783\n",
      "Epoch 98/100\n",
      "45/45 - 3s - loss: 0.0123 - accuracy: 0.9958 - val_loss: 0.1129 - val_accuracy: 0.9799\n",
      "Epoch 99/100\n",
      "45/45 - 2s - loss: 0.0112 - accuracy: 0.9964 - val_loss: 0.1126 - val_accuracy: 0.9798\n",
      "Epoch 100/100\n",
      "45/45 - 2s - loss: 0.0091 - accuracy: 0.9971 - val_loss: 0.1066 - val_accuracy: 0.9801\n"
     ]
    }
   ],
   "source": [
    "# try different batch sizes \n",
    "# batch size only shows a certain number of samples to the network before weights are updated\n",
    "# try different epochs as well \n",
    "#epochs are the amount of times the model goes throguh the data\n",
    "\n",
    "# verbose is just how the epochs are displayed, either 1,2,3\n",
    "# do we want validation split\n",
    "snoop_dog = model.fit(trainX,trainy, batch_size = 800, epochs =100, validation_split = .4, verbose = 2)"
   ]
  },
  {
   "cell_type": "code",
   "execution_count": 400,
   "metadata": {},
   "outputs": [
    {
     "name": "stdout",
     "output_type": "stream",
     "text": [
      "[0.7484444379806519, 0.9001666903495789, 0.9255555272102356, 0.9429722428321838, 0.9526110887527466, 0.9578055739402771, 0.9640555381774902, 0.9683055281639099, 0.9698610901832581, 0.9729166626930237, 0.9756110906600952, 0.9765555262565613, 0.9805833101272583, 0.9796110987663269, 0.9814444184303284, 0.9838610887527466, 0.9851666688919067, 0.9856944680213928, 0.9866944551467896, 0.9860277771949768, 0.9873889088630676, 0.9877777695655823, 0.9886666536331177, 0.9885833263397217, 0.9889444708824158, 0.9903055429458618, 0.9900000095367432, 0.9900555610656738, 0.9902499914169312, 0.9907222390174866, 0.9904721975326538, 0.9908333420753479, 0.9904999732971191, 0.9906111359596252, 0.9918888807296753, 0.9935277700424194, 0.9925277829170227, 0.9926944375038147, 0.9930833578109741, 0.9931111335754395, 0.9943055510520935, 0.9938889145851135, 0.9933888912200928, 0.9930833578109741, 0.9932777881622314, 0.9935555458068848, 0.9935833215713501, 0.9932500123977661, 0.9946388602256775, 0.9945555329322815, 0.9943888783454895, 0.9943055510520935, 0.9942222237586975, 0.9948611259460449, 0.9953610897064209, 0.9950277805328369, 0.9944444298744202, 0.9938055276870728, 0.9948611259460449, 0.9950555562973022, 0.9943333268165588, 0.9955000281333923, 0.9948611259460449, 0.9947777986526489, 0.9955000281333923, 0.9955833554267883, 0.9958333373069763, 0.9959999918937683, 0.9962777495384216, 0.995722234249115, 0.9959999918937683, 0.9954444169998169, 0.9951388835906982, 0.9963611364364624, 0.9956111311912537, 0.9957500100135803, 0.9951388835906982, 0.9952499866485596, 0.9964166879653931, 0.9963333606719971, 0.9965000152587891, 0.9966388940811157, 0.9965555667877197, 0.9961666464805603, 0.996138870716095, 0.9967777729034424, 0.9966111183166504, 0.9962499737739563, 0.9963055849075317, 0.9962499737739563, 0.996833324432373, 0.9963055849075317, 0.9963611364364624, 0.9969444274902344, 0.996999979019165, 0.9972500205039978, 0.9971110820770264, 0.9957500100135803, 0.9963611364364624, 0.9970555305480957]\n"
     ]
    }
   ],
   "source": [
    "print(snoop_dog.history['accuracy'])"
   ]
  },
  {
   "cell_type": "code",
   "execution_count": 401,
   "metadata": {},
   "outputs": [
    {
     "name": "stdout",
     "output_type": "stream",
     "text": [
      "1875/1875 [==============================] - 10s 5ms/step - loss: 0.0428 - accuracy: 0.9920\n",
      "[0.042798932641744614, 0.9919999837875366]\n"
     ]
    }
   ],
   "source": [
    "#shows accuracy and loss of the model \n",
    "\n",
    "measure = model.evaluate(trainX,trainy)\n",
    "print(measure)"
   ]
  },
  {
   "cell_type": "code",
   "execution_count": 402,
   "metadata": {},
   "outputs": [
    {
     "name": "stdout",
     "output_type": "stream",
     "text": [
      "313/313 [==============================] - 2s 5ms/step - loss: 0.0846 - accuracy: 0.9825\n",
      "[0.08461467921733856, 0.9825000166893005]\n"
     ]
    }
   ],
   "source": [
    "measure2 = model.evaluate(testX,testy)\n",
    "print(measure2)"
   ]
  },
  {
   "cell_type": "code",
   "execution_count": 403,
   "metadata": {},
   "outputs": [
    {
     "data": {
      "image/png": "[encoded data removed]",
      "text/plain": [
       "<Figure size 432x288 with 1 Axes>"
      ]
     },
     "metadata": {
      "needs_background": "light"
     },
     "output_type": "display_data"
    },
    {
     "data": {
      "image/png": "[encoded data removed]",
      "text/plain": [
       "<Figure size 432x288 with 1 Axes>"
      ]
     },
     "metadata": {
      "needs_background": "light"
     },
     "output_type": "display_data"
    }
   ],
   "source": [
    "#shows accruacy and loss\n",
    "#as epochs increased, accuracy increase and loss decreased \n",
    "# could probably even change the epochs to around 50 because it plateaued after a while \n",
    "\n",
    "\n",
    "\n",
    "plt.plot(snoop_dog.history[\"accuracy\"])\n",
    "plt.plot(snoop_dog.history[\"val_accuracy\"])\n",
    "plt.xlabel(\"# of Epochs\")\n",
    "plt.ylabel(\"accuracy\")\n",
    "\n",
    "plt.legend([\"accuracy\", \"val_accuracy\"])\n",
    "plt.show()\n",
    "\n",
    "plt.plot(snoop_dog.history[\"loss\"])\n",
    "plt.plot(snoop_dog.history[\"val_loss\"])\n",
    "plt.xlabel(\"# of Epochs\")\n",
    "plt.ylabel(\"loss\")\n",
    "\n",
    "plt.legend([\"loss\", \"val_loss\"])\n",
    "plt.show()\n",
    "plt.show()\n"
   ]
  },
  {
   "cell_type": "code",
   "execution_count": null,
   "metadata": {},
   "outputs": [],
   "source": [
    "\n"
   ]
  },
  {
   "cell_type": "code",
   "execution_count": null,
   "metadata": {},
   "outputs": [],
   "source": []
  },
  {
   "cell_type": "code",
   "execution_count": null,
   "metadata": {},
   "outputs": [],
   "source": []
  }
 ],
 "metadata": {
  "kernelspec": {
   "display_name": "Python 3",
   "language": "python",
   "name": "python3"
  },
  "language_info": {
   "codemirror_mode": {
    "name": "ipython",
    "version": 3
   },
   "file_extension": ".py",
   "mimetype": "text/x-python",
   "name": "python",
   "nbconvert_exporter": "python",
   "pygments_lexer": "ipython3",
   "version": "3.7.3"
  }
 },
 "nbformat": 4,
 "nbformat_minor": 2
}
